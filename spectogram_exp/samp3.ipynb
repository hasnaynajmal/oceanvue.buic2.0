{
 "cells": [
  {
   "cell_type": "code",
   "execution_count": 8,
   "metadata": {},
   "outputs": [
    {
     "name": "stdout",
     "output_type": "stream",
     "text": [
      "Using matplotlib backend: QtAgg\n"
     ]
    }
   ],
   "source": [
    "import librosa.display\n",
    "import librosa\n",
    "%matplotlib\n",
    "import matplotlib.pyplot as plt\n",
    "import numpy as np\n",
    "\n",
    "# Load the audio file\n",
    "audio_file = 'D:/oceanvue.fyp/DeepShip Dataset/Cargo/2/2.wav'\n",
    "y, sr = librosa.load(audio_file)\n",
    "\n",
    "# Calculate the Mel spectrogram\n",
    "n_fft = 2048  # Number of FFT bins\n",
    "hop_length = 512  # Hop size for calculating STFT\n",
    "n_mels = 128  # Number of Mel frequency bins\n",
    "\n",
    "# Compute the Mel spectrogram\n",
    "mel_spectrogram = librosa.feature.melspectrogram(y=y, sr=sr, n_fft=n_fft, hop_length=hop_length, n_mels=n_mels)\n",
    "\n",
    "# Convert power spectrogram to dB scale (decibels)\n",
    "mel_spectrogram_db = librosa.power_to_db(mel_spectrogram, ref=np.max)\n"
   ]
  },
  {
   "cell_type": "code",
   "execution_count": 9,
   "metadata": {},
   "outputs": [
    {
     "data": {
      "text/plain": [
       "array([[3.84550071e+00, 4.30641890e+00, 3.59989071e+00, ...,\n",
       "        4.79181051e+00, 5.57270098e+00, 5.42082739e+00],\n",
       "       [4.52135444e-01, 1.24947645e-01, 1.23519090e-03, ...,\n",
       "        7.05068558e-03, 7.14475885e-02, 4.79288220e-01],\n",
       "       [1.80089474e-01, 4.56459112e-02, 9.16333927e-04, ...,\n",
       "        6.22092793e-03, 3.70432884e-02, 2.11917758e-01],\n",
       "       ...,\n",
       "       [7.26862663e-06, 4.94270989e-06, 2.95040218e-06, ...,\n",
       "        8.11240534e-06, 1.18478956e-05, 4.56193993e-05],\n",
       "       [4.50156540e-06, 2.19407025e-06, 1.65203687e-06, ...,\n",
       "        3.32978425e-06, 6.72487522e-06, 3.72549766e-05],\n",
       "       [9.85254587e-07, 3.27598059e-07, 1.20189469e-07, ...,\n",
       "        2.08664730e-07, 2.92343793e-06, 2.34973995e-05]], dtype=float32)"
      ]
     },
     "execution_count": 9,
     "metadata": {},
     "output_type": "execute_result"
    }
   ],
   "source": [
    "mel_spectrogram"
   ]
  },
  {
   "cell_type": "code",
   "execution_count": 11,
   "metadata": {},
   "outputs": [
    {
     "ename": "AttributeError",
     "evalue": "module 'matplotlib' has no attribute 'axes'",
     "output_type": "error",
     "traceback": [
      "\u001b[1;31m---------------------------------------------------------------------------\u001b[0m",
      "\u001b[1;31mAttributeError\u001b[0m                            Traceback (most recent call last)",
      "Cell \u001b[1;32mIn[11], line 13\u001b[0m\n\u001b[0;32m     11\u001b[0m \u001b[39m# Display the Mel spectrogram in 3D\u001b[39;00m\n\u001b[0;32m     12\u001b[0m fig \u001b[39m=\u001b[39m plt\u001b[39m.\u001b[39mfigure(figsize\u001b[39m=\u001b[39m(\u001b[39m10\u001b[39m, \u001b[39m6\u001b[39m))\n\u001b[1;32m---> 13\u001b[0m ax \u001b[39m=\u001b[39m fig\u001b[39m.\u001b[39;49madd_subplot(\u001b[39m111\u001b[39;49m, projection\u001b[39m=\u001b[39;49m\u001b[39m'\u001b[39;49m\u001b[39m3d\u001b[39;49m\u001b[39m'\u001b[39;49m)\n\u001b[0;32m     16\u001b[0m \u001b[39m# Plot the spectrogram\u001b[39;00m\n\u001b[0;32m     17\u001b[0m librosa\u001b[39m.\u001b[39mdisplay\u001b[39m.\u001b[39mspecshow(librosa\u001b[39m.\u001b[39mamplitude_to_db(S, ref\u001b[39m=\u001b[39mnp\u001b[39m.\u001b[39mmax), sr\u001b[39m=\u001b[39mfs, hop_length\u001b[39m=\u001b[39mhop_length, ax\u001b[39m=\u001b[39max, x_axis\u001b[39m=\u001b[39m\u001b[39m'\u001b[39m\u001b[39mtime\u001b[39m\u001b[39m'\u001b[39m, y_axis\u001b[39m=\u001b[39m\u001b[39m'\u001b[39m\u001b[39mmel\u001b[39m\u001b[39m'\u001b[39m)\n",
      "File \u001b[1;32m~\\AppData\\Roaming\\Python\\Python310\\site-packages\\matplotlib\\figure.py:750\u001b[0m, in \u001b[0;36mFigureBase.add_subplot\u001b[1;34m(self, *args, **kwargs)\u001b[0m\n\u001b[0;32m    744\u001b[0m \u001b[39mif\u001b[39;00m \u001b[39m'\u001b[39m\u001b[39mfigure\u001b[39m\u001b[39m'\u001b[39m \u001b[39min\u001b[39;00m kwargs:\n\u001b[0;32m    745\u001b[0m     \u001b[39m# Axes itself allows for a 'figure' kwarg, but since we want to\u001b[39;00m\n\u001b[0;32m    746\u001b[0m     \u001b[39m# bind the created Axes to self, it is not allowed here.\u001b[39;00m\n\u001b[0;32m    747\u001b[0m     \u001b[39mraise\u001b[39;00m _api\u001b[39m.\u001b[39mkwarg_error(\u001b[39m\"\u001b[39m\u001b[39madd_subplot\u001b[39m\u001b[39m\"\u001b[39m, \u001b[39m\"\u001b[39m\u001b[39mfigure\u001b[39m\u001b[39m\"\u001b[39m)\n\u001b[0;32m    749\u001b[0m \u001b[39mif\u001b[39;00m (\u001b[39mlen\u001b[39m(args) \u001b[39m==\u001b[39m \u001b[39m1\u001b[39m\n\u001b[1;32m--> 750\u001b[0m         \u001b[39mand\u001b[39;00m \u001b[39misinstance\u001b[39m(args[\u001b[39m0\u001b[39m], mpl\u001b[39m.\u001b[39;49maxes\u001b[39m.\u001b[39m_base\u001b[39m.\u001b[39m_AxesBase)\n\u001b[0;32m    751\u001b[0m         \u001b[39mand\u001b[39;00m args[\u001b[39m0\u001b[39m]\u001b[39m.\u001b[39mget_subplotspec()):\n\u001b[0;32m    752\u001b[0m     ax \u001b[39m=\u001b[39m args[\u001b[39m0\u001b[39m]\n\u001b[0;32m    753\u001b[0m     key \u001b[39m=\u001b[39m ax\u001b[39m.\u001b[39m_projection_init\n",
      "File \u001b[1;32m~\\AppData\\Roaming\\Python\\Python310\\site-packages\\matplotlib\\_api\\__init__.py:226\u001b[0m, in \u001b[0;36mcaching_module_getattr.<locals>.__getattr__\u001b[1;34m(name)\u001b[0m\n\u001b[0;32m    224\u001b[0m \u001b[39mif\u001b[39;00m name \u001b[39min\u001b[39;00m props:\n\u001b[0;32m    225\u001b[0m     \u001b[39mreturn\u001b[39;00m props[name]\u001b[39m.\u001b[39m\u001b[39m__get__\u001b[39m(instance)\n\u001b[1;32m--> 226\u001b[0m \u001b[39mraise\u001b[39;00m \u001b[39mAttributeError\u001b[39;00m(\n\u001b[0;32m    227\u001b[0m     \u001b[39mf\u001b[39m\u001b[39m\"\u001b[39m\u001b[39mmodule \u001b[39m\u001b[39m{\u001b[39;00m\u001b[39mcls\u001b[39m\u001b[39m.\u001b[39m\u001b[39m__module__\u001b[39m\u001b[39m!r}\u001b[39;00m\u001b[39m has no attribute \u001b[39m\u001b[39m{\u001b[39;00mname\u001b[39m!r}\u001b[39;00m\u001b[39m\"\u001b[39m)\n",
      "\u001b[1;31mAttributeError\u001b[0m: module 'matplotlib' has no attribute 'axes'"
     ]
    }
   ],
   "source": [
    "# Convert power spectrogram to dB scale (decibels)\n",
    "mel_spectrogram_db = librosa.power_to_db(mel_spectrogram, ref=np.max)\n",
    "\n",
    "# Create time and frequency arrays\n",
    "times = librosa.times_like(mel_spectrogram_db)\n",
    "frequencies = librosa.mel_frequencies(n_mels=n_mels)\n",
    "\n",
    "# Meshgrid for 3D plotting\n",
    "T, F = np.meshgrid(times, frequencies)\n",
    "\n",
    "# Display the Mel spectrogram in 3D\n",
    "fig = plt.figure(figsize=(10, 6))\n",
    "ax = fig.add_subplot(111, projection='3d')\n",
    "\n",
    "\n",
    "# Plot the spectrogram\n",
    "librosa.display.specshow(librosa.amplitude_to_db(S, ref=np.max), sr=fs, hop_length=hop_length, ax=ax, x_axis='time', y_axis='mel')\n",
    "ax.set(title='Mel Spectrogram', xlabel='Time [s]', ylabel='Frequency [Hz]')\n",
    "\n",
    "# Show the plots\n",
    "plt.tight_layout()\n",
    "plt.show()"
   ]
  },
  {
   "cell_type": "code",
   "execution_count": null,
   "metadata": {},
   "outputs": [],
   "source": [
    "# Display the Mel spectrogram\n",
    "plt.figure(figsize=(10, 6))\n",
    "librosa.display.specshow(mel_spectrogram_db, sr=sr, hop_length=hop_length, x_axis='time', y_axis='mel')\n",
    "plt.colorbar(format='%+2.0f dB', ax=plt.gca())  # Add a color bar for dB scale\n",
    "plt.title('Mel Spectrogram')\n",
    "plt.xlabel('Time (s)')\n",
    "plt.ylabel('Mel Frequency')\n",
    "plt.tight_layout()\n",
    "plt.show()"
   ]
  }
 ],
 "metadata": {
  "kernelspec": {
   "display_name": "base",
   "language": "python",
   "name": "python3"
  },
  "language_info": {
   "codemirror_mode": {
    "name": "ipython",
    "version": 3
   },
   "file_extension": ".py",
   "mimetype": "text/x-python",
   "name": "python",
   "nbconvert_exporter": "python",
   "pygments_lexer": "ipython3",
   "version": "3.10.9"
  },
  "orig_nbformat": 4
 },
 "nbformat": 4,
 "nbformat_minor": 2
}
